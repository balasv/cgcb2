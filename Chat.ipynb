{
 "cells": [
  {
   "cell_type": "raw",
   "metadata": {},
   "source": [
    "This notebook is for frequenctly answered questions chatbot based on the data:\n"
   ]
  },
  {
   "cell_type": "code",
   "execution_count": 2,
   "metadata": {},
   "outputs": [],
   "source": [
    "# Import Libraries \n",
    "import os\n",
    "import numpy as np\n",
    "import pandas as pd\n",
    "from nltk.stem.lancaster import LancasterStemmer\n",
    "from sklearn.feature_extraction.text import TfidfVectorizer\n",
    "from sklearn.metrics.pairwise import cosine_similarity\n",
    "from nltk import word_tokenize"
   ]
  },
  {
   "cell_type": "code",
   "execution_count": 11,
   "metadata": {},
   "outputs": [],
   "source": [
    "# import data\n",
    "data = pd.read_csv(\"C:/Users/JRF/Desktop/CGCB/Data/FAQ.csv\")"
   ]
  },
  {
   "cell_type": "code",
   "execution_count": 12,
   "metadata": {},
   "outputs": [
    {
     "data": {
      "text/html": [
       "<div>\n",
       "<style scoped>\n",
       "    .dataframe tbody tr th:only-of-type {\n",
       "        vertical-align: middle;\n",
       "    }\n",
       "\n",
       "    .dataframe tbody tr th {\n",
       "        vertical-align: top;\n",
       "    }\n",
       "\n",
       "    .dataframe thead th {\n",
       "        text-align: right;\n",
       "    }\n",
       "</style>\n",
       "<table border=\"1\" class=\"dataframe\">\n",
       "  <thead>\n",
       "    <tr style=\"text-align: right;\">\n",
       "      <th></th>\n",
       "      <th>Question</th>\n",
       "      <th>Answer</th>\n",
       "      <th>Class</th>\n",
       "    </tr>\n",
       "  </thead>\n",
       "  <tbody>\n",
       "    <tr>\n",
       "      <th>0</th>\n",
       "      <td>Hi</td>\n",
       "      <td>I am here to help your FAQ. Kindly type the ke...</td>\n",
       "      <td>Genral</td>\n",
       "    </tr>\n",
       "    <tr>\n",
       "      <th>1</th>\n",
       "      <td>What are the contact details of the Department...</td>\n",
       "      <td>Department of Administrative Reforms and Publi...</td>\n",
       "      <td>contact</td>\n",
       "    </tr>\n",
       "    <tr>\n",
       "      <th>2</th>\n",
       "      <td>Where can the grievances be sent?</td>\n",
       "      <td>The grievances can be sent to  The Department ...</td>\n",
       "      <td>sent</td>\n",
       "    </tr>\n",
       "    <tr>\n",
       "      <th>3</th>\n",
       "      <td>How do I lodge the grievance?</td>\n",
       "      <td>The grievances can be lodged online on . In ca...</td>\n",
       "      <td>lodge</td>\n",
       "    </tr>\n",
       "    <tr>\n",
       "      <th>4</th>\n",
       "      <td>What happens when I lodge the grievance?</td>\n",
       "      <td>The grievance is acknowledged online or by pos...</td>\n",
       "      <td>NaN</td>\n",
       "    </tr>\n",
       "  </tbody>\n",
       "</table>\n",
       "</div>"
      ],
      "text/plain": [
       "                                            Question  \\\n",
       "0                                                Hi    \n",
       "1  What are the contact details of the Department...   \n",
       "2                  Where can the grievances be sent?   \n",
       "3                      How do I lodge the grievance?   \n",
       "4           What happens when I lodge the grievance?   \n",
       "\n",
       "                                              Answer    Class  \n",
       "0  I am here to help your FAQ. Kindly type the ke...   Genral  \n",
       "1  Department of Administrative Reforms and Publi...  contact  \n",
       "2  The grievances can be sent to  The Department ...     sent  \n",
       "3  The grievances can be lodged online on . In ca...    lodge  \n",
       "4  The grievance is acknowledged online or by pos...      NaN  "
      ]
     },
     "execution_count": 12,
     "metadata": {},
     "output_type": "execute_result"
    }
   ],
   "source": [
    "#view data\n",
    "data.head()"
   ]
  },
  {
   "cell_type": "code",
   "execution_count": 6,
   "metadata": {},
   "outputs": [
    {
     "name": "stderr",
     "output_type": "stream",
     "text": [
      "[nltk_data] Downloading package punkt to\n",
      "[nltk_data]     C:\\Users\\JRF\\AppData\\Roaming\\nltk_data...\n",
      "[nltk_data]   Package punkt is already up-to-date!\n"
     ]
    },
    {
     "data": {
      "text/plain": [
       "True"
      ]
     },
     "execution_count": 6,
     "metadata": {},
     "output_type": "execute_result"
    }
   ],
   "source": [
    "#Import nltk package\n",
    "import nltk\n",
    "nltk.download('punkt')"
   ]
  },
  {
   "cell_type": "code",
   "execution_count": 13,
   "metadata": {},
   "outputs": [],
   "source": [
    "questions = data['Question'].values\n",
    "answers = data['Answer'].values"
   ]
  },
  {
   "cell_type": "code",
   "execution_count": 14,
   "metadata": {},
   "outputs": [],
   "source": [
    "stemmer = LancasterStemmer()\n",
    "def cleanup(sentence):\n",
    "    word_tokens = word_tokenize(sentence)\n",
    "    stemmed_words = [stemmer.stem(word) for word in word_tokens]\n",
    "    return ' '.join(stemmed_words)\n",
    "questions_stemmed = [cleanup(question) for question in questions]"
   ]
  },
  {
   "cell_type": "code",
   "execution_count": 15,
   "metadata": {},
   "outputs": [],
   "source": [
    "\n",
    "tfv = TfidfVectorizer(min_df = 1, stop_words = 'english')"
   ]
  },
  {
   "cell_type": "code",
   "execution_count": 16,
   "metadata": {},
   "outputs": [],
   "source": [
    "questions_vectors = tfv.fit_transform(questions_stemmed)"
   ]
  },
  {
   "cell_type": "code",
   "execution_count": 18,
   "metadata": {},
   "outputs": [],
   "source": [
    "# For a new question:\n",
    "temp_question = 'any other queries'\n",
    "temp_question_cleaned = cleanup(temp_question)\n",
    "temp_question_vectorized = tfv.transform([temp_question_cleaned])"
   ]
  },
  {
   "cell_type": "code",
   "execution_count": 19,
   "metadata": {},
   "outputs": [],
   "source": [
    "# Finding the similarity with all other questions:\n",
    "cosines_similarities = []\n",
    "for i in range(questions_vectors.shape[0]):\n",
    "    cosines_similarities.append(cosine_similarity(questions_vectors[i], temp_question_vectorized)[0][0])\n",
    "    "
   ]
  },
  {
   "cell_type": "code",
   "execution_count": 20,
   "metadata": {},
   "outputs": [
    {
     "data": {
      "text/plain": [
       "(0, 'I am here to help your FAQ. Kindly type the keyword here ')"
      ]
     },
     "execution_count": 20,
     "metadata": {},
     "output_type": "execute_result"
    }
   ],
   "source": [
    "def Answer(question):\n",
    "    question_cleaned = cleanup(question)\n",
    "    question_vector = tfv.transform([question_cleaned])\n",
    "    cosine_similarities = []\n",
    "    for i in range(questions_vectors.shape[0]):\n",
    "        cosine_similarities.append(cosine_similarity(questions_vectors[i], question_vector))\n",
    "    index = np.argmax(np.asarray(cosine_similarities))\n",
    "    answer = answers[index]\n",
    "    return index, answer\n",
    "Answer(temp_question)"
   ]
  },
  {
   "cell_type": "code",
   "execution_count": 21,
   "metadata": {},
   "outputs": [
    {
     "data": {
      "text/plain": [
       "'I am here to help your FAQ. Kindly type the keyword here '"
      ]
     },
     "execution_count": 21,
     "metadata": {},
     "output_type": "execute_result"
    }
   ],
   "source": [
    "answers[np.argmax(np.asarray(cosines_similarities))]"
   ]
  },
  {
   "cell_type": "code",
   "execution_count": 22,
   "metadata": {},
   "outputs": [],
   "source": [
    "def bot():\n",
    "    while(True):\n",
    "        user_question = input()\n",
    "        if user_question == 'Q':\n",
    "            break\n",
    "        else:\n",
    "            # cleaning the question:\n",
    "            user_question_cleaned = cleanup(user_question)\n",
    "            # vectorizing the question:\n",
    "            user_question_vector = tfv.transform([user_question_cleaned])\n",
    "            cosines_similarities = []\n",
    "            for i in range(questions_vectors.shape[0]):\n",
    "                cosines_similarities.append(cosine_similarity(questions_vectors[i],user_question_vector)[0][0])\n",
    "            answer = answers[np.argmax(np.asarray(cosines_similarities))]\n",
    "            print(\"Answer: \",answer)\n",
    "        print('')\n",
    "    return 'Bye'"
   ]
  },
  {
   "cell_type": "code",
   "execution_count": null,
   "metadata": {},
   "outputs": [
    {
     "name": "stdout",
     "output_type": "stream",
     "text": [
      "hi\n",
      "Answer:  I am here to help your FAQ. Kindly type the keyword here \n",
      "\n",
      "time\n",
      "Answer:  Sixty (60) days. In case of delay an interim reply with reasons for delay is required to be given.\n",
      "\n",
      "contact\n",
      "Answer:  Department of Administrative Reforms and Public Grievances 5th floor Sardar Patel Bhavan Sansad Marg New Delhi 110001 \n",
      "\n",
      "website\n",
      "Answer:  I am here to help your FAQ. Kindly type the keyword here \n",
      "\n"
     ]
    }
   ],
   "source": [
    "bot()"
   ]
  },
  {
   "cell_type": "code",
   "execution_count": null,
   "metadata": {},
   "outputs": [],
   "source": [
    "# Finding Accuracy:\n",
    "correct_answers = 0\n",
    "wrong_answers = 0\n",
    "import datetime\n",
    "a = datetime.datetime.now()\n",
    "\n",
    "for i in range(len(questions)):\n",
    "    question = questions[i]\n",
    "    answer_index , _= Answer(question)\n",
    "    if i == answer_index:\n",
    "        correct_answers += 1\n",
    "    else:\n",
    "        wrong_answers += 1\n",
    "\n",
    "b = datetime.datetime.now()\n",
    "time_taken = (b - a).total_seconds()\n",
    "print('Accuracy: ', (correct_answers/ len(questions)))\n",
    "print(\"The time taken for {} questions is {} seconds:\".format(len(questions), time_taken))"
   ]
  }
 ],
 "metadata": {
  "kernelspec": {
   "display_name": "Python 3",
   "language": "python",
   "name": "python3"
  },
  "language_info": {
   "codemirror_mode": {
    "name": "ipython",
    "version": 3
   },
   "file_extension": ".py",
   "mimetype": "text/x-python",
   "name": "python",
   "nbconvert_exporter": "python",
   "pygments_lexer": "ipython3",
   "version": "3.7.3"
  }
 },
 "nbformat": 4,
 "nbformat_minor": 2
}
